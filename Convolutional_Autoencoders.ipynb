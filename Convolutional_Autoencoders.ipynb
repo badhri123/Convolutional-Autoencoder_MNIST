{
  "nbformat": 4,
  "nbformat_minor": 0,
  "metadata": {
    "colab": {
      "name": "Convolutional_Autoencoders.ipynb",
      "version": "0.3.2",
      "provenance": [],
      "collapsed_sections": [],
      "include_colab_link": true
    },
    "kernelspec": {
      "name": "python3",
      "display_name": "Python 3"
    },
    "accelerator": "TPU"
  },
  "cells": [
    {
      "cell_type": "markdown",
      "metadata": {
        "id": "view-in-github",
        "colab_type": "text"
      },
      "source": [
        "<a href=\"https://colab.research.google.com/github/badhri123/Convolutional-Autoencoder_MNIST/blob/master/Convolutional_Autoencoders.ipynb\" target=\"_parent\"><img src=\"https://colab.research.google.com/assets/colab-badge.svg\" alt=\"Open In Colab\"/></a>"
      ]
    },
    {
      "metadata": {
        "id": "RSB5Av0wga52",
        "colab_type": "code",
        "outputId": "9f3c792b-c2e3-4d70-aebc-c87a0d89c4d0",
        "colab": {
          "base_uri": "https://localhost:8080/",
          "height": 102
        }
      },
      "cell_type": "code",
      "source": [
        "!pip install torch torchvision"
      ],
      "execution_count": 0,
      "outputs": [
        {
          "output_type": "stream",
          "text": [
            "Requirement already satisfied: torch in /usr/local/lib/python3.6/dist-packages (1.0.0)\n",
            "Requirement already satisfied: torchvision in /usr/local/lib/python3.6/dist-packages (0.2.1)\n",
            "Requirement already satisfied: six in /usr/local/lib/python3.6/dist-packages (from torchvision) (1.11.0)\n",
            "Requirement already satisfied: numpy in /usr/local/lib/python3.6/dist-packages (from torchvision) (1.14.6)\n",
            "Requirement already satisfied: pillow>=4.1.1 in /usr/local/lib/python3.6/dist-packages (from torchvision) (5.4.1)\n"
          ],
          "name": "stdout"
        }
      ]
    },
    {
      "metadata": {
        "id": "RIJZ4_e_4YxD",
        "colab_type": "code",
        "colab": {}
      },
      "cell_type": "code",
      "source": [
        "import matplotlib.pyplot as plt\n",
        "import numpy\n",
        "import scipy.ndimage\n",
        "import torch \n",
        "import torchvision\n",
        "import torch.nn as nn\n",
        "import torchvision.datasets as dset\n",
        "import torchvision.transforms as transforms\n",
        "from torch.autograd import Variable\n",
        "import copy"
      ],
      "execution_count": 0,
      "outputs": []
    },
    {
      "metadata": {
        "id": "dQXyzcBPjgkd",
        "colab_type": "code",
        "colab": {}
      },
      "cell_type": "code",
      "source": [
        "\n",
        "epoch = 10\n",
        "batch_size =1000\n",
        "learning_rate = 0.005\n",
        "\n",
        "# Download Data\n",
        "\n",
        "mnist_train = dset.MNIST(\"./\", train=True, transform=transforms.ToTensor(), target_transform=None, download=True)\n",
        "mnist_test  = dset.MNIST(\"./\", train=False, transform=transforms.ToTensor(), target_transform=None, download=True)\n",
        "\n",
        "# Set Data Loader(input pipeline)\n",
        "\n",
        "train_loader = torch.utils.data.DataLoader(dataset=mnist_train,batch_size=batch_size,shuffle=True)"
      ],
      "execution_count": 0,
      "outputs": []
    },
    {
      "metadata": {
        "id": "Rnkkv-TbkUJu",
        "colab_type": "code",
        "colab": {}
      },
      "cell_type": "code",
      "source": [
        "class Encoder(nn.Module):\n",
        "    def __init__(self):\n",
        "        super(Encoder,self).__init__()\n",
        "        self.layer1 = nn.Sequential(\n",
        "                        nn.Conv2d(1,32,3,padding=1),   # batch x 16 x 28 x 28\n",
        "                        nn.ReLU(),\n",
        "                        nn.BatchNorm2d(32),\n",
        "                        nn.Conv2d(32,32,3,padding=1),   # batch x 16 x 28 x 28\n",
        "                        nn.ReLU(),\n",
        "                        nn.BatchNorm2d(32),\n",
        "                        nn.Conv2d(32,64,3,padding=1),  # batch x 32 x 28 x 28\n",
        "                        nn.ReLU(),\n",
        "                        nn.BatchNorm2d(64),\n",
        "                        nn.Conv2d(64,64,3,padding=1),  # batch x 32 x 28 x 28\n",
        "                        nn.ReLU(),\n",
        "                        nn.BatchNorm2d(64),\n",
        "                        nn.MaxPool2d(2,2)   # batch x 64 x 14 x 14\n",
        "        )\n",
        "        self.layer2 = nn.Sequential(\n",
        "                        nn.Conv2d(64,128,3,padding=1),  # batch x 64 x 14 x 14\n",
        "                        nn.ReLU(),\n",
        "                        nn.BatchNorm2d(128),\n",
        "                        nn.Conv2d(128,128,3,padding=1),  # batch x 64 x 14 x 14\n",
        "                        nn.ReLU(),\n",
        "                        nn.BatchNorm2d(128),\n",
        "                        nn.MaxPool2d(2,2),\n",
        "                        nn.Conv2d(128,256,3,padding=1),  # batch x 64 x 7 x 7\n",
        "                        nn.ReLU()\n",
        "        )\n",
        "        \n",
        "                \n",
        "    def forward(self,x):\n",
        "        out = self.layer1(x)\n",
        "        out = self.layer2(out)\n",
        "        out = out.view(batch_size, -1)\n",
        "        return out\n",
        "    \n",
        "encoder = Encoder()"
      ],
      "execution_count": 0,
      "outputs": []
    },
    {
      "metadata": {
        "id": "esJV8TYmkZCl",
        "colab_type": "code",
        "colab": {}
      },
      "cell_type": "code",
      "source": [
        "class Decoder(nn.Module):\n",
        "    def __init__(self):\n",
        "        super(Decoder,self).__init__()\n",
        "        self.layer1 = nn.Sequential(\n",
        "                        nn.ConvTranspose2d(256,128,3,2,1,1),\n",
        "                        nn.ReLU(),\n",
        "                        nn.BatchNorm2d(128),\n",
        "                        nn.ConvTranspose2d(128,128,3,1,1),\n",
        "                        nn.ReLU(),\n",
        "                        nn.BatchNorm2d(128),\n",
        "                        nn.ConvTranspose2d(128,64,3,1,1),\n",
        "                        nn.ReLU(),\n",
        "                        nn.BatchNorm2d(64),\n",
        "                        nn.ConvTranspose2d(64,64,3,1,1),\n",
        "                        nn.ReLU(),\n",
        "                        nn.BatchNorm2d(64)\n",
        "        )\n",
        "        self.layer2 = nn.Sequential(\n",
        "                        nn.ConvTranspose2d(64,32,3,1,1),\n",
        "                        nn.ReLU(),\n",
        "                        nn.BatchNorm2d(32),\n",
        "                        nn.ConvTranspose2d(32,32,3,1,1),\n",
        "                        nn.ReLU(),\n",
        "                        nn.BatchNorm2d(32),\n",
        "                        nn.ConvTranspose2d(32,1,3,2,1,1),\n",
        "                        nn.ReLU()\n",
        "        )\n",
        "        \n",
        "    def forward(self,x):\n",
        "        out = x.view(batch_size,256,7,7)\n",
        "        out = self.layer1(out)\n",
        "        out = self.layer2(out)\n",
        "        return out\n",
        "\n",
        "decoder = Decoder()"
      ],
      "execution_count": 0,
      "outputs": []
    },
    {
      "metadata": {
        "id": "F2KPcXpnpUiU",
        "colab_type": "code",
        "colab": {}
      },
      "cell_type": "code",
      "source": [
        "\n",
        "# Noise \n",
        "\n",
        "#noise = torch.rand(batch_size,1,28,28)\n"
      ],
      "execution_count": 0,
      "outputs": []
    },
    {
      "metadata": {
        "id": "5s2dxOk8pjBp",
        "colab_type": "code",
        "colab": {}
      },
      "cell_type": "code",
      "source": [
        "parameters = list(encoder.parameters())+ list(decoder.parameters())\n",
        "loss_func = nn.MSELoss()\n",
        "optimizer = torch.optim.Adam(parameters, lr=learning_rate)"
      ],
      "execution_count": 0,
      "outputs": []
    },
    {
      "metadata": {
        "id": "6eVIq4KGKBXY",
        "colab_type": "code",
        "colab": {}
      },
      "cell_type": "code",
      "source": [
        "def crop(i):\n",
        "  i[:,:,10:20,10:20] = numpy.zeros((10,10))[:]\n",
        "  return i\n"
      ],
      "execution_count": 0,
      "outputs": []
    },
    {
      "metadata": {
        "id": "3_UjdxrW8KUD",
        "colab_type": "code",
        "outputId": "301bbb40-8c1c-4f5d-c017-c71b639fe39e",
        "colab": {
          "base_uri": "https://localhost:8080/",
          "height": 694
        }
      },
      "cell_type": "code",
      "source": [
        "for image,label in train_loader:\n",
        "  \n",
        "  image_n = copy.copy(image.data.numpy())\n",
        "  print(image_n.shape)\n",
        "  image_n[:,:,10:20,10:20]=numpy.zeros((10,10))\n",
        "  image_n = torch.from_numpy(image_n) \n",
        "  plt.imshow(image[0][0].data.numpy(),cmap='gray')\n",
        "  plt.show()\n",
        "  plt.imshow(image_n[0][0],cmap='gray')\n",
        "  \n",
        "  break"
      ],
      "execution_count": 0,
      "outputs": [
        {
          "output_type": "stream",
          "text": [
            "(1000, 1, 28, 28)\n"
          ],
          "name": "stdout"
        },
        {
          "output_type": "display_data",
          "data": {
            "image/png": "[encoded data removed]",
            "text/plain": [
              "<Figure size 576x396 with 1 Axes>"
            ]
          },
          "metadata": {
            "tags": []
          }
        },
        {
          "output_type": "display_data",
          "data": {
            "image/png": "[encoded data removed]",
            "text/plain": [
              "<Figure size 576x396 with 1 Axes>"
            ]
          },
          "metadata": {
            "tags": []
          }
        }
      ]
    },
    {
      "metadata": {
        "id": "IT0mibePpryE",
        "colab_type": "code",
        "outputId": "72f072ff-100c-495b-a6af-2d8737574585",
        "colab": {
          "base_uri": "https://localhost:8080/",
          "height": 5467
        }
      },
      "cell_type": "code",
      "source": [
        "\n",
        "# train encoder and decoder\n",
        "# save and load model\n",
        "for i in range(epoch):\n",
        "  \n",
        "  k=0\n",
        "  for image,label in train_loader:\n",
        "        \n",
        "        #image_n = torch.mul(image+0.25, 0.1 * noise)\n",
        "        #image_n =  torch.from_numpy(scipy.ndimage.filters.gaussian_filter(image,0.8))\n",
        "       \n",
        "        image_n = copy.copy(image.data.numpy())\n",
        "        image_n[:,:,10:20,10:20] = numpy.zeros((10,10))\n",
        "        image_n=torch.from_numpy(image_n)\n",
        "        image = Variable(image)\n",
        "        image_n = Variable(image_n)\n",
        "        #label = Variable(label.float()).cuda()\n",
        "        optimizer.zero_grad()\n",
        "        output = encoder(image_n)\n",
        "        output = decoder(output)\n",
        "        loss = loss_func(output,image)\n",
        "        loss.backward()\n",
        "        optimizer.step()\n",
        "        print(k)\n",
        "        print(loss)\n",
        "        k=k+1\n",
        "  print(\"Epoch\"+ str(i))\n",
        "\n",
        "  "
      ],
      "execution_count": 0,
      "outputs": [
        {
          "output_type": "stream",
          "text": [
            "0\n",
            "tensor(0.0998, grad_fn=<MseLossBackward>)\n",
            "1\n",
            "tensor(0.0954, grad_fn=<MseLossBackward>)\n",
            "2\n",
            "tensor(0.0947, grad_fn=<MseLossBackward>)\n",
            "3\n",
            "tensor(0.0919, grad_fn=<MseLossBackward>)\n",
            "4\n",
            "tensor(0.0941, grad_fn=<MseLossBackward>)\n",
            "5\n",
            "tensor(0.0930, grad_fn=<MseLossBackward>)\n",
            "6\n",
            "tensor(0.0918, grad_fn=<MseLossBackward>)\n",
            "7\n",
            "tensor(0.0926, grad_fn=<MseLossBackward>)\n",
            "8\n",
            "tensor(0.0919, grad_fn=<MseLossBackward>)\n",
            "9\n",
            "tensor(0.0912, grad_fn=<MseLossBackward>)\n",
            "10\n",
            "tensor(0.0915, grad_fn=<MseLossBackward>)\n",
            "11\n",
            "tensor(0.0901, grad_fn=<MseLossBackward>)\n",
            "12\n",
            "tensor(0.0907, grad_fn=<MseLossBackward>)\n",
            "13\n",
            "tensor(0.0912, grad_fn=<MseLossBackward>)\n",
            "14\n",
            "tensor(0.0896, grad_fn=<MseLossBackward>)\n",
            "15\n",
            "tensor(0.0911, grad_fn=<MseLossBackward>)\n",
            "16\n",
            "tensor(0.0899, grad_fn=<MseLossBackward>)\n",
            "17\n",
            "tensor(0.0897, grad_fn=<MseLossBackward>)\n",
            "18\n",
            "tensor(0.0866, grad_fn=<MseLossBackward>)\n",
            "19\n",
            "tensor(0.0846, grad_fn=<MseLossBackward>)\n",
            "20\n",
            "tensor(0.0845, grad_fn=<MseLossBackward>)\n",
            "21\n",
            "tensor(0.0853, grad_fn=<MseLossBackward>)\n",
            "22\n",
            "tensor(0.0850, grad_fn=<MseLossBackward>)\n",
            "23\n",
            "tensor(0.0836, grad_fn=<MseLossBackward>)\n",
            "24\n",
            "tensor(0.0818, grad_fn=<MseLossBackward>)\n",
            "25\n",
            "tensor(0.0831, grad_fn=<MseLossBackward>)\n",
            "26\n",
            "tensor(0.0811, grad_fn=<MseLossBackward>)\n",
            "27\n",
            "tensor(0.0807, grad_fn=<MseLossBackward>)\n",
            "28\n",
            "tensor(0.0771, grad_fn=<MseLossBackward>)\n",
            "29\n",
            "tensor(0.0755, grad_fn=<MseLossBackward>)\n",
            "30\n",
            "tensor(0.0774, grad_fn=<MseLossBackward>)\n",
            "31\n",
            "tensor(0.0779, grad_fn=<MseLossBackward>)\n",
            "32\n",
            "tensor(0.0766, grad_fn=<MseLossBackward>)\n",
            "33\n",
            "tensor(0.0766, grad_fn=<MseLossBackward>)\n",
            "34\n",
            "tensor(0.0769, grad_fn=<MseLossBackward>)\n",
            "35\n",
            "tensor(0.0758, grad_fn=<MseLossBackward>)\n",
            "36\n",
            "tensor(0.0753, grad_fn=<MseLossBackward>)\n",
            "37\n",
            "tensor(0.0749, grad_fn=<MseLossBackward>)\n",
            "38\n",
            "tensor(0.0755, grad_fn=<MseLossBackward>)\n",
            "39\n",
            "tensor(0.0742, grad_fn=<MseLossBackward>)\n",
            "40\n",
            "tensor(0.0714, grad_fn=<MseLossBackward>)\n",
            "41\n",
            "tensor(0.0699, grad_fn=<MseLossBackward>)\n",
            "42\n",
            "tensor(0.0682, grad_fn=<MseLossBackward>)\n",
            "43\n",
            "tensor(0.0685, grad_fn=<MseLossBackward>)\n",
            "44\n",
            "tensor(0.0708, grad_fn=<MseLossBackward>)\n",
            "45\n",
            "tensor(0.0609, grad_fn=<MseLossBackward>)\n",
            "46\n",
            "tensor(0.0601, grad_fn=<MseLossBackward>)\n",
            "47\n",
            "tensor(0.0578, grad_fn=<MseLossBackward>)\n",
            "48\n",
            "tensor(0.0592, grad_fn=<MseLossBackward>)\n",
            "49\n",
            "tensor(0.0568, grad_fn=<MseLossBackward>)\n",
            "50\n",
            "tensor(0.0543, grad_fn=<MseLossBackward>)\n",
            "51\n",
            "tensor(0.0549, grad_fn=<MseLossBackward>)\n",
            "52\n",
            "tensor(0.0537, grad_fn=<MseLossBackward>)\n",
            "53\n",
            "tensor(0.0533, grad_fn=<MseLossBackward>)\n",
            "54\n",
            "tensor(0.0535, grad_fn=<MseLossBackward>)\n",
            "55\n",
            "tensor(0.0513, grad_fn=<MseLossBackward>)\n",
            "56\n",
            "tensor(0.0506, grad_fn=<MseLossBackward>)\n",
            "57\n",
            "tensor(0.0498, grad_fn=<MseLossBackward>)\n",
            "58\n",
            "tensor(0.0495, grad_fn=<MseLossBackward>)\n",
            "59\n",
            "tensor(0.0496, grad_fn=<MseLossBackward>)\n",
            "Epoch0\n",
            "0\n",
            "tensor(0.0494, grad_fn=<MseLossBackward>)\n",
            "1\n",
            "tensor(0.0486, grad_fn=<MseLossBackward>)\n",
            "2\n",
            "tensor(0.0474, grad_fn=<MseLossBackward>)\n",
            "3\n",
            "tensor(0.0474, grad_fn=<MseLossBackward>)\n",
            "4\n",
            "tensor(0.0473, grad_fn=<MseLossBackward>)\n",
            "5\n",
            "tensor(0.0471, grad_fn=<MseLossBackward>)\n",
            "6\n",
            "tensor(0.0464, grad_fn=<MseLossBackward>)\n",
            "7\n",
            "tensor(0.0457, grad_fn=<MseLossBackward>)\n",
            "8\n",
            "tensor(0.0464, grad_fn=<MseLossBackward>)\n",
            "9\n",
            "tensor(0.0457, grad_fn=<MseLossBackward>)\n",
            "10\n",
            "tensor(0.0465, grad_fn=<MseLossBackward>)\n",
            "11\n",
            "tensor(0.0468, grad_fn=<MseLossBackward>)\n",
            "12\n",
            "tensor(0.0487, grad_fn=<MseLossBackward>)\n",
            "13\n",
            "tensor(0.0463, grad_fn=<MseLossBackward>)\n",
            "14\n",
            "tensor(0.0446, grad_fn=<MseLossBackward>)\n",
            "15\n",
            "tensor(0.0443, grad_fn=<MseLossBackward>)\n",
            "16\n",
            "tensor(0.0449, grad_fn=<MseLossBackward>)\n",
            "17\n",
            "tensor(0.0443, grad_fn=<MseLossBackward>)\n",
            "18\n",
            "tensor(0.0430, grad_fn=<MseLossBackward>)\n",
            "19\n",
            "tensor(0.0435, grad_fn=<MseLossBackward>)\n",
            "20\n",
            "tensor(0.0437, grad_fn=<MseLossBackward>)\n",
            "21\n",
            "tensor(0.0439, grad_fn=<MseLossBackward>)\n",
            "22\n",
            "tensor(0.0421, grad_fn=<MseLossBackward>)\n",
            "23\n",
            "tensor(0.0385, grad_fn=<MseLossBackward>)\n",
            "24\n",
            "tensor(0.0356, grad_fn=<MseLossBackward>)\n",
            "25\n",
            "tensor(0.0353, grad_fn=<MseLossBackward>)\n",
            "26\n",
            "tensor(0.0336, grad_fn=<MseLossBackward>)\n",
            "27\n",
            "tensor(0.0333, grad_fn=<MseLossBackward>)\n",
            "28\n",
            "tensor(0.0337, grad_fn=<MseLossBackward>)\n",
            "29\n",
            "tensor(0.0355, grad_fn=<MseLossBackward>)\n",
            "30\n",
            "tensor(0.0343, grad_fn=<MseLossBackward>)\n",
            "31\n",
            "tensor(0.0334, grad_fn=<MseLossBackward>)\n",
            "32\n",
            "tensor(0.0319, grad_fn=<MseLossBackward>)\n",
            "33\n",
            "tensor(0.0316, grad_fn=<MseLossBackward>)\n",
            "34\n",
            "tensor(0.0320, grad_fn=<MseLossBackward>)\n",
            "35\n",
            "tensor(0.0317, grad_fn=<MseLossBackward>)\n",
            "36\n",
            "tensor(0.0315, grad_fn=<MseLossBackward>)\n",
            "37\n",
            "tensor(0.0306, grad_fn=<MseLossBackward>)\n",
            "38\n",
            "tensor(0.0312, grad_fn=<MseLossBackward>)\n",
            "39\n",
            "tensor(0.0293, grad_fn=<MseLossBackward>)\n",
            "40\n",
            "tensor(0.0255, grad_fn=<MseLossBackward>)\n",
            "41\n",
            "tensor(0.0220, grad_fn=<MseLossBackward>)\n",
            "42\n",
            "tensor(0.0212, grad_fn=<MseLossBackward>)\n",
            "43\n",
            "tensor(0.0212, grad_fn=<MseLossBackward>)\n",
            "44\n",
            "tensor(0.0209, grad_fn=<MseLossBackward>)\n",
            "45\n",
            "tensor(0.0231, grad_fn=<MseLossBackward>)\n",
            "46\n",
            "tensor(0.0295, grad_fn=<MseLossBackward>)\n",
            "47\n",
            "tensor(0.0391, grad_fn=<MseLossBackward>)\n",
            "48\n",
            "tensor(0.0218, grad_fn=<MseLossBackward>)\n",
            "49\n",
            "tensor(0.0277, grad_fn=<MseLossBackward>)\n",
            "50\n",
            "tensor(0.0265, grad_fn=<MseLossBackward>)\n",
            "51\n",
            "tensor(0.0232, grad_fn=<MseLossBackward>)\n",
            "52\n",
            "tensor(0.0248, grad_fn=<MseLossBackward>)\n",
            "53\n",
            "tensor(0.0218, grad_fn=<MseLossBackward>)\n",
            "54\n",
            "tensor(0.0226, grad_fn=<MseLossBackward>)\n",
            "55\n",
            "tensor(0.0192, grad_fn=<MseLossBackward>)\n",
            "56\n",
            "tensor(0.0222, grad_fn=<MseLossBackward>)\n",
            "57\n",
            "tensor(0.0185, grad_fn=<MseLossBackward>)\n",
            "58\n",
            "tensor(0.0207, grad_fn=<MseLossBackward>)\n",
            "59\n",
            "tensor(0.0189, grad_fn=<MseLossBackward>)\n",
            "Epoch1\n",
            "0\n",
            "tensor(0.0186, grad_fn=<MseLossBackward>)\n",
            "1\n",
            "tensor(0.0179, grad_fn=<MseLossBackward>)\n",
            "2\n",
            "tensor(0.0184, grad_fn=<MseLossBackward>)\n",
            "3\n",
            "tensor(0.0171, grad_fn=<MseLossBackward>)\n",
            "4\n",
            "tensor(0.0171, grad_fn=<MseLossBackward>)\n",
            "5\n",
            "tensor(0.0171, grad_fn=<MseLossBackward>)\n",
            "6\n",
            "tensor(0.0170, grad_fn=<MseLossBackward>)\n",
            "7\n",
            "tensor(0.0165, grad_fn=<MseLossBackward>)\n",
            "8\n",
            "tensor(0.0166, grad_fn=<MseLossBackward>)\n",
            "9\n",
            "tensor(0.0155, grad_fn=<MseLossBackward>)\n",
            "10\n",
            "tensor(0.0160, grad_fn=<MseLossBackward>)\n",
            "11\n",
            "tensor(0.0154, grad_fn=<MseLossBackward>)\n",
            "12\n",
            "tensor(0.0160, grad_fn=<MseLossBackward>)\n",
            "13\n",
            "tensor(0.0154, grad_fn=<MseLossBackward>)\n",
            "14\n",
            "tensor(0.0159, grad_fn=<MseLossBackward>)\n",
            "15\n",
            "tensor(0.0150, grad_fn=<MseLossBackward>)\n",
            "16\n",
            "tensor(0.0150, grad_fn=<MseLossBackward>)\n",
            "17\n",
            "tensor(0.0148, grad_fn=<MseLossBackward>)\n",
            "18\n",
            "tensor(0.0151, grad_fn=<MseLossBackward>)\n",
            "19\n",
            "tensor(0.0140, grad_fn=<MseLossBackward>)\n",
            "20\n",
            "tensor(0.0150, grad_fn=<MseLossBackward>)\n",
            "21\n",
            "tensor(0.0145, grad_fn=<MseLossBackward>)\n",
            "22\n",
            "tensor(0.0142, grad_fn=<MseLossBackward>)\n",
            "23\n",
            "tensor(0.0136, grad_fn=<MseLossBackward>)\n",
            "24\n",
            "tensor(0.0140, grad_fn=<MseLossBackward>)\n",
            "25\n",
            "tensor(0.0134, grad_fn=<MseLossBackward>)\n"
          ],
          "name": "stdout"
        },
        {
          "output_type": "error",
          "ename": "KeyboardInterrupt",
          "evalue": "ignored",
          "traceback": [
            "\u001b[0;31m---------------------------------------------------------------------------\u001b[0m",
            "\u001b[0;31mKeyboardInterrupt\u001b[0m                         Traceback (most recent call last)",
            "\u001b[0;32m<ipython-input-90-e40f6a181670>\u001b[0m in \u001b[0;36m<module>\u001b[0;34m()\u001b[0m\n\u001b[1;32m     17\u001b[0m         \u001b[0moutput\u001b[0m \u001b[0;34m=\u001b[0m \u001b[0mdecoder\u001b[0m\u001b[0;34m(\u001b[0m\u001b[0moutput\u001b[0m\u001b[0;34m)\u001b[0m\u001b[0;34m\u001b[0m\u001b[0;34m\u001b[0m\u001b[0m\n\u001b[1;32m     18\u001b[0m         \u001b[0mloss\u001b[0m \u001b[0;34m=\u001b[0m \u001b[0mloss_func\u001b[0m\u001b[0;34m(\u001b[0m\u001b[0moutput\u001b[0m\u001b[0;34m,\u001b[0m\u001b[0mimage\u001b[0m\u001b[0;34m)\u001b[0m\u001b[0;34m\u001b[0m\u001b[0;34m\u001b[0m\u001b[0m\n\u001b[0;32m---> 19\u001b[0;31m         \u001b[0mloss\u001b[0m\u001b[0;34m.\u001b[0m\u001b[0mbackward\u001b[0m\u001b[0;34m(\u001b[0m\u001b[0;34m)\u001b[0m\u001b[0;34m\u001b[0m\u001b[0;34m\u001b[0m\u001b[0m\n\u001b[0m\u001b[1;32m     20\u001b[0m         \u001b[0moptimizer\u001b[0m\u001b[0;34m.\u001b[0m\u001b[0mstep\u001b[0m\u001b[0;34m(\u001b[0m\u001b[0;34m)\u001b[0m\u001b[0;34m\u001b[0m\u001b[0;34m\u001b[0m\u001b[0m\n\u001b[1;32m     21\u001b[0m         \u001b[0mprint\u001b[0m\u001b[0;34m(\u001b[0m\u001b[0mk\u001b[0m\u001b[0;34m)\u001b[0m\u001b[0;34m\u001b[0m\u001b[0;34m\u001b[0m\u001b[0m\n",
            "\u001b[0;32m/usr/local/lib/python3.6/dist-packages/torch/tensor.py\u001b[0m in \u001b[0;36mbackward\u001b[0;34m(self, gradient, retain_graph, create_graph)\u001b[0m\n\u001b[1;32m    100\u001b[0m                 \u001b[0mproducts\u001b[0m\u001b[0;34m.\u001b[0m \u001b[0mDefaults\u001b[0m \u001b[0mto\u001b[0m\u001b[0;31m \u001b[0m\u001b[0;31m`\u001b[0m\u001b[0;31m`\u001b[0m\u001b[0;32mFalse\u001b[0m\u001b[0;31m`\u001b[0m\u001b[0;31m`\u001b[0m\u001b[0;34m.\u001b[0m\u001b[0;34m\u001b[0m\u001b[0;34m\u001b[0m\u001b[0m\n\u001b[1;32m    101\u001b[0m         \"\"\"\n\u001b[0;32m--> 102\u001b[0;31m         \u001b[0mtorch\u001b[0m\u001b[0;34m.\u001b[0m\u001b[0mautograd\u001b[0m\u001b[0;34m.\u001b[0m\u001b[0mbackward\u001b[0m\u001b[0;34m(\u001b[0m\u001b[0mself\u001b[0m\u001b[0;34m,\u001b[0m \u001b[0mgradient\u001b[0m\u001b[0;34m,\u001b[0m \u001b[0mretain_graph\u001b[0m\u001b[0;34m,\u001b[0m \u001b[0mcreate_graph\u001b[0m\u001b[0;34m)\u001b[0m\u001b[0;34m\u001b[0m\u001b[0;34m\u001b[0m\u001b[0m\n\u001b[0m\u001b[1;32m    103\u001b[0m \u001b[0;34m\u001b[0m\u001b[0m\n\u001b[1;32m    104\u001b[0m     \u001b[0;32mdef\u001b[0m \u001b[0mregister_hook\u001b[0m\u001b[0;34m(\u001b[0m\u001b[0mself\u001b[0m\u001b[0;34m,\u001b[0m \u001b[0mhook\u001b[0m\u001b[0;34m)\u001b[0m\u001b[0;34m:\u001b[0m\u001b[0;34m\u001b[0m\u001b[0;34m\u001b[0m\u001b[0m\n",
            "\u001b[0;32m/usr/local/lib/python3.6/dist-packages/torch/autograd/__init__.py\u001b[0m in \u001b[0;36mbackward\u001b[0;34m(tensors, grad_tensors, retain_graph, create_graph, grad_variables)\u001b[0m\n\u001b[1;32m     88\u001b[0m     Variable._execution_engine.run_backward(\n\u001b[1;32m     89\u001b[0m         \u001b[0mtensors\u001b[0m\u001b[0;34m,\u001b[0m \u001b[0mgrad_tensors\u001b[0m\u001b[0;34m,\u001b[0m \u001b[0mretain_graph\u001b[0m\u001b[0;34m,\u001b[0m \u001b[0mcreate_graph\u001b[0m\u001b[0;34m,\u001b[0m\u001b[0;34m\u001b[0m\u001b[0;34m\u001b[0m\u001b[0m\n\u001b[0;32m---> 90\u001b[0;31m         allow_unreachable=True)  # allow_unreachable flag\n\u001b[0m\u001b[1;32m     91\u001b[0m \u001b[0;34m\u001b[0m\u001b[0m\n\u001b[1;32m     92\u001b[0m \u001b[0;34m\u001b[0m\u001b[0m\n",
            "\u001b[0;31mKeyboardInterrupt\u001b[0m: "
          ]
        }
      ]
    },
    {
      "metadata": {
        "id": "tZIJQM4gp2Hd",
        "colab_type": "code",
        "colab": {}
      },
      "cell_type": "code",
      "source": [
        "test_loader = torch.utils.data.DataLoader(dataset=mnist_test,batch_size=batch_size,shuffle=True)"
      ],
      "execution_count": 0,
      "outputs": []
    },
    {
      "metadata": {
        "id": "gogYJRrT2AkX",
        "colab_type": "code",
        "outputId": "a290370d-1fb9-4ae1-fbeb-2517aca900ad",
        "colab": {
          "base_uri": "https://localhost:8080/",
          "height": 34
        }
      },
      "cell_type": "code",
      "source": [
        "for image,label in test_loader:\n",
        "        #image_n = torch.from_numpy(scipy.ndimage.filters.gaussian_filter(image,0.8))\n",
        "        image_n = copy.copy(image.data.numpy())\n",
        "        r= numpy.random.randint(1,18)\n",
        "        image_n[:,:,r:r+10,r:r+10] = numpy.zeros((10,10))\n",
        "        image_n = torch.from_numpy(image_n)\n",
        "       \n",
        "        image = Variable(image)\n",
        "        image_n = Variable(image_n)\n",
        "        #label = Variable(label.float()).cuda()\n",
        "        \n",
        "        output = encoder(image_n)\n",
        "        output = decoder(output)\n",
        "        print(output.size())\n",
        "        break\n",
        "        \n",
        "\n",
        "        \n",
        "\n",
        "        \n",
        "        "
      ],
      "execution_count": 0,
      "outputs": [
        {
          "output_type": "stream",
          "text": [
            "torch.Size([1000, 1, 28, 28])\n"
          ],
          "name": "stdout"
        }
      ]
    },
    {
      "metadata": {
        "id": "FbwCNB9w4IzM",
        "colab_type": "code",
        "outputId": "d3dd91a4-9d1b-471c-ec5e-e539b06e19e7",
        "colab": {
          "base_uri": "https://localhost:8080/",
          "height": 350
        }
      },
      "cell_type": "code",
      "source": [
        "\n",
        "\n",
        "\n",
        "f, axarr = plt.subplots(5,3)\n",
        "\n",
        "for i in range(5):\n",
        "  img=image[i+100].cpu()\n",
        "  imgn=image_n[i+100].cpu()\n",
        "  out=output[i+100].cpu()\n",
        "  origin = img.data.numpy()\n",
        "  noised = imgn.data.numpy()\n",
        "  outpt = out.data.numpy()\n",
        "  \n",
        "  axarr[i,0].imshow(origin[0],cmap='gray')\n",
        "  axarr[i,1].imshow(noised[0],cmap='gray')\n",
        "  axarr[i,2].imshow(outpt[0],cmap='gray')\n",
        "\n",
        "\n",
        "\n",
        "\n",
        "\n",
        "\n",
        "\n",
        "\n",
        "\n",
        "\n",
        "\n",
        "\n"
      ],
      "execution_count": 0,
      "outputs": [
        {
          "output_type": "display_data",
          "data": {
            "image/png": "[encoded data removed]",
            "text/plain": [
              "<Figure size 576x396 with 15 Axes>"
            ]
          },
          "metadata": {
            "tags": []
          }
        }
      ]
    },
    {
      "metadata": {
        "id": "qgzMoOQw4NCd",
        "colab_type": "code",
        "outputId": "b969ad6f-7332-4879-e9a7-3186cb7ce39b",
        "colab": {
          "base_uri": "https://localhost:8080/",
          "height": 187
        }
      },
      "cell_type": "code",
      "source": [
        "for i in range(10):\n",
        "  print(i)"
      ],
      "execution_count": 0,
      "outputs": [
        {
          "output_type": "stream",
          "text": [
            "0\n",
            "1\n",
            "2\n",
            "3\n",
            "4\n",
            "5\n",
            "6\n",
            "7\n",
            "8\n",
            "9\n"
          ],
          "name": "stdout"
        }
      ]
    },
    {
      "metadata": {
        "id": "BZ7sRZir7wM9",
        "colab_type": "code",
        "outputId": "3a569dbc-5bca-4809-aa22-fa94a81c6dd9",
        "colab": {
          "base_uri": "https://localhost:8080/",
          "height": 51
        }
      },
      "cell_type": "code",
      "source": [
        ""
      ],
      "execution_count": 0,
      "outputs": [
        {
          "output_type": "stream",
          "text": [
            "torch.Size([100, 1, 28, 28])\n"
          ],
          "name": "stdout"
        },
        {
          "output_type": "execute_result",
          "data": {
            "text/plain": [
              "torch.Size([3, 302, 302])"
            ]
          },
          "metadata": {
            "tags": []
          },
          "execution_count": 56
        }
      ]
    },
    {
      "metadata": {
        "id": "2H3Pef9aAeIc",
        "colab_type": "code",
        "outputId": "eb37f4f0-a160-4e04-c504-97b495739eed",
        "colab": {
          "base_uri": "https://localhost:8080/",
          "height": 231
        }
      },
      "cell_type": "code",
      "source": [
        ""
      ],
      "execution_count": 0,
      "outputs": [
        {
          "output_type": "error",
          "ename": "AttributeError",
          "evalue": "ignored",
          "traceback": [
            "\u001b[0;31m---------------------------------------------------------------------------\u001b[0m",
            "\u001b[0;31mAttributeError\u001b[0m                            Traceback (most recent call last)",
            "\u001b[0;32m<ipython-input-92-c797a4197d67>\u001b[0m in \u001b[0;36m<module>\u001b[0;34m()\u001b[0m\n\u001b[0;32m----> 1\u001b[0;31m \u001b[0mmodel_json\u001b[0m \u001b[0;34m=\u001b[0m \u001b[0mEncoder\u001b[0m\u001b[0;34m.\u001b[0m\u001b[0mto_json\u001b[0m\u001b[0;34m(\u001b[0m\u001b[0;34m)\u001b[0m\u001b[0;34m\u001b[0m\u001b[0;34m\u001b[0m\u001b[0m\n\u001b[0m\u001b[1;32m      2\u001b[0m \u001b[0;32mwith\u001b[0m \u001b[0mopen\u001b[0m\u001b[0;34m(\u001b[0m\u001b[0;34m\"model1.json\"\u001b[0m\u001b[0;34m,\u001b[0m\u001b[0;34m\"w\"\u001b[0m\u001b[0;34m)\u001b[0m \u001b[0;32mas\u001b[0m \u001b[0mjson_file\u001b[0m\u001b[0;34m:\u001b[0m\u001b[0;34m\u001b[0m\u001b[0;34m\u001b[0m\u001b[0m\n\u001b[1;32m      3\u001b[0m      \u001b[0mjson_file\u001b[0m\u001b[0;34m.\u001b[0m\u001b[0mwrite\u001b[0m\u001b[0;34m(\u001b[0m\u001b[0mmodel_jason\u001b[0m\u001b[0;34m)\u001b[0m\u001b[0;34m\u001b[0m\u001b[0;34m\u001b[0m\u001b[0m\n\u001b[1;32m      4\u001b[0m \u001b[0;34m\u001b[0m\u001b[0m\n\u001b[1;32m      5\u001b[0m \u001b[0mfiles\u001b[0m\u001b[0;34m.\u001b[0m\u001b[0mdownload\u001b[0m\u001b[0;34m(\u001b[0m\u001b[0;34m\"model1.json\"\u001b[0m\u001b[0;34m)\u001b[0m\u001b[0;34m\u001b[0m\u001b[0;34m\u001b[0m\u001b[0m\n",
            "\u001b[0;31mAttributeError\u001b[0m: type object 'Encoder' has no attribute 'to_json'"
          ]
        }
      ]
    },
    {
      "metadata": {
        "id": "Q71bEL1CAq2t",
        "colab_type": "code",
        "colab": {}
      },
      "cell_type": "code",
      "source": [
        ""
      ],
      "execution_count": 0,
      "outputs": []
    }
  ]
}